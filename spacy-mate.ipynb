{
 "cells": [
  {
   "cell_type": "markdown",
   "id": "233ba49a",
   "metadata": {
    "slideshow": {
     "slide_type": "slide"
    }
   },
   "source": [
    "# spaCy\n",
    "## Tuto@Mate – 19 mai 2022\n",
    "\n",
    "### Clément Plancq (MSH Val de Loire – CITERES)"
   ]
  },
  {
   "cell_type": "markdown",
   "id": "310fa730",
   "metadata": {
    "slideshow": {
     "slide_type": "slide"
    }
   },
   "source": [
    "1. **Introduction**\n",
    "2. Étapes de la chaîne de traitement\n",
    "3. Extraction d'information\n",
    "4. Adaptation du modèle"
   ]
  },
  {
   "cell_type": "markdown",
   "id": "15396ff9",
   "metadata": {
    "slideshow": {
     "slide_type": "subslide"
    }
   },
   "source": [
    "# spaCy quésaco ?\n",
    "\n",
    "https://spacy.io/\n",
    "\n",
    "- ~~logiciel~~\n",
    "- ~~application~~\n",
    "- ~~service web~~\n",
    "- bibliothèque logicielle (*library*, *lib*),\n",
    "- écrite en Python (et Cython),\n",
    "- pour le TAL (*NLP*)\n",
    "- sous licence libre"
   ]
  },
  {
   "cell_type": "markdown",
   "id": "ff6433e6",
   "metadata": {
    "slideshow": {
     "slide_type": "subslide"
    }
   },
   "source": [
    "# spaCy quésaco ?\n",
    "\n",
    "- Produit de la société [explosion.ai](https://explosion.ai/)  \n",
    "fondée par : Matthew Honnibal ([@honnibal](https://twitter.com/honnibal)) et Ines Montani ([@_inesmontani](https://twitter.com/_inesmontani))\n",
    "- Licence MIT (Open Source) pour le code\n",
    "    - Licences ouvertes diverses pour les modèles\n",
    "- Projet démarré en 2015, v1.0.0 en octobre 2016, v3.3.0 ([github](https://github.com/explosion/spaCy))\n",
    "- Outil destiné à être utilisé en production : rapide, stable (tests, documentation, packaging)\n",
    "- **MAIS** pas de choix de la méthode ou de l'algorithme utilisé"
   ]
  },
  {
   "cell_type": "markdown",
   "id": "6a7329c2",
   "metadata": {
    "slideshow": {
     "slide_type": "subslide"
    }
   },
   "source": [
    "# spaCy quésaco ?\n",
    "\n",
    "- Chaîne de traitements de TAL\n",
    "    - tokenisation (*tokenizer*)\n",
    "    - étiquetage POS (*tagger*)\n",
    "    - analyse syntaxique (*parser*)\n",
    "    - détection d'entités nommées (*ner*)\n",
    "    - lemmatisation\n",
    "    - (catégorisation de texte\n",
    "    - word embedding)\n",
    "- Usage de modèles statistiques (méthodes neuronales)\n",
    "- Intégration possible de modèles tiers (PyTorch ou TensorFlow)\n"
   ]
  },
  {
   "cell_type": "markdown",
   "id": "6aeeab83",
   "metadata": {
    "slideshow": {
     "slide_type": "subslide"
    }
   },
   "source": [
    "# Pourquoi spaCy ?\n",
    "\n",
    "- C'est du Python 🥳  \n",
    "<small>Il existe un wrapper R, voir [ici](https://spacyr.quanteda.io/)</small>\n",
    "- Plutôt simple à prendre en main\n",
    "- Très bien documenté ([doc](https://spacy.io/usage), [api](https://spacy.io/api)) <small>D'ailleurs plutôt que ce notebook, suivez l'excellent tutoriel d'Ines Montani : [https://course.spacy.io/](https://course.spacy.io/)</small>\n",
    "- Cyle de développement/release régulier, suivi de la communauté sur GitHub (discussions, issues)\n",
    "- Ressources construites avec spaCy : https://spacy.io/universe\n",
    "\n",
    "\n",
    "- Fournit les méthodes et les moyens d'adapter le traitement et/ou le modèle à des besoins particuliers\n",
    "- **MAIS** ce n'est pas forcément l'outil qui donne les meilleurs résultats pour le français dans toutes les tâches de TAL"
   ]
  },
  {
   "cell_type": "markdown",
   "id": "1e37e71a",
   "metadata": {
    "slideshow": {
     "slide_type": "subslide"
    }
   },
   "source": [
    "# spaCy et les autres\n",
    "\n",
    "spaCy est *un* des frameworks de TAL disponibles\n",
    "\n",
    "- [NLTK](http://www.nltk.org/) : python, orienté pédagogie, choix des méthodes et algos à utiliser\n",
    "- [CoreNLP](https://stanfordnlp.github.io/CoreNLP/) : java, framework de Stanford, orienté recherche, chaîne de TAL très complète pour l'anglais en particulier\n",
    "- [Stanza](https://stanfordnlp.github.io/stanza/) : python, framework de Stanford, modèles neuronaux entraînés sur les données d'Universal Dependancies <small>[https://github.com/explosion/spacy-stanza](https://github.com/explosion/spacy-stanza) permet d'utiliser les modèles de Stanford avec Spacy</small>\n",
    "- [TextBlob](https://textblob.readthedocs.io/en/dev/) : python\n",
    "- [DKPro](https://dkpro.github.io) : java\n",
    "- [flair](https://github.com/zalandoresearch/flair) : python, le framework de Zalando, très bonnes performances en reconnaissance d'entités nommées"
   ]
  },
  {
   "cell_type": "markdown",
   "id": "3feb59bf",
   "metadata": {
    "slideshow": {
     "slide_type": "subslide"
    }
   },
   "source": [
    "# Les modèles de spaCy\n",
    "\n",
    "- Spacy utilise des [modèles statistiques](https://spacy.io/models) qui permettent de prédire des annotations linguistiques\n",
    "- 21 langues : allemand, anglais, catalan, chinois, coréen, danois, espagnol, finnois, français, italien, japonais, lituanien, macédonien, néerlandais, grec, norvégien, polonais, portugais, roumain, russe, suédois + modèle multi langues\n",
    "\n",
    "\n",
    "- Tous ces modèles, quelque soient leur type ou leur langue, s'utilisent de la même façon, avec la même API\n",
    "- La justesse des annotations dépendra en grande partie de la proximité entre le texte soumis et les textes du corpus d'entraînement"
   ]
  },
  {
   "cell_type": "markdown",
   "id": "be3c0bbf",
   "metadata": {
    "slideshow": {
     "slide_type": "subslide"
    }
   },
   "source": [
    "# Les modèles pour le français\n",
    "\n",
    "- 4 modèles pour le français\n",
    "    - [fr_core_news_sm](https://spacy.io/models/fr#fr_core_news_sm) (tagger, morphologizer, lemmatizer, parser, ner) 15 Mo \n",
    "    - [fr_core_news_md](https://spacy.io/models/fr#fr_core_news_md) (tagger, morphologizer, lemmatizer, parser, ner, vectors) 43 Mo\n",
    "    - [fr_core_news_lg](https://spacy.io/models/fr#fr_core_news_lg) (tagger, morphologizer, lemmatizer, parser, ner, vectors) 545 Mo\n",
    "    - [fr_dep_news_trf](https://spacy.io/models/fr#fr_dep_news_trf) (tagger, morphologizer, lemmatizer, parser) 382 Mo\n",
    "- modèles `fr` appris sur les corpus [Sequoia](https://deep-sequoia.inria.fr/fr/) et [WikiNer](https://figshare.com/articles/Learning_multilingual_named_entity_recognition_from_Wikipedia/5462500)\n",
    "- sauf le modèle `trf` qui est issu de camembert-base distribué par [Hugging Face](https://huggingface.co/camembert-base), entraîné sur [Oscar](https://oscar-corpus.com/)"
   ]
  },
  {
   "cell_type": "markdown",
   "id": "2b48e661",
   "metadata": {
    "slideshow": {
     "slide_type": "slide"
    }
   },
   "source": [
    "1. Introduction\n",
    "2. **Étapes de la chaîne de traitement**\n",
    "3. Extraction d'information\n",
    "4. Adaptation du modèle"
   ]
  },
  {
   "cell_type": "markdown",
   "id": "f0bc429d",
   "metadata": {
    "slideshow": {
     "slide_type": "subslide"
    }
   },
   "source": [
    "## Tokénisation"
   ]
  },
  {
   "cell_type": "code",
   "execution_count": 2,
   "id": "07047980",
   "metadata": {
    "slideshow": {
     "slide_type": "-"
    }
   },
   "outputs": [],
   "source": [
    "import spacy\n",
    "\n",
    "nlp = spacy.load('fr_core_news_md')"
   ]
  },
  {
   "cell_type": "code",
   "execution_count": 40,
   "id": "9405efd2",
   "metadata": {
    "slideshow": {
     "slide_type": "-"
    }
   },
   "outputs": [
    {
     "name": "stdout",
     "output_type": "stream",
     "text": [
      "Et\n",
      "tu\n",
      "recherches\n",
      "dans\n",
      "le\n",
      "vague\n",
      "une\n",
      "ombre\n",
      ",\n",
      "un\n",
      "sourire\n",
      "qui\n",
      "soulage\n",
      ".\n"
     ]
    }
   ],
   "source": [
    "doc = nlp(\"Et tu recherches dans le vague une ombre, un sourire qui soulage.\")\n",
    "for tok in doc:\n",
    "    print(tok)"
   ]
  },
  {
   "cell_type": "markdown",
   "id": "14221974",
   "metadata": {
    "slideshow": {
     "slide_type": "subslide"
    }
   },
   "source": [
    "La tokénisation est non destructive. On peut découper un texte en tokens et le restituer dans sa forme originale"
   ]
  },
  {
   "cell_type": "code",
   "execution_count": 43,
   "id": "c8c7c580",
   "metadata": {},
   "outputs": [
    {
     "name": "stdout",
     "output_type": "stream",
     "text": [
      "Le dictionnaire de mes souvenirs\n",
      "N'a qu'une page, une seule rubrique\n",
      "Qui commence par ton absence\n",
      "Et dans l'ordre alphabétique\n",
      "Se termine par l'état d'amnésie\n",
      "Tes états d'âme sont un leurre\n",
      "Et tes larmes sont les armes dont tu te sers\n",
      "Mais ce piège ne tromperait qu'un amateur\n",
      "Ton âme sœur est une meilleure adversaire"
     ]
    }
   ],
   "source": [
    "doc = nlp(\"\"\"Le dictionnaire de mes souvenirs\n",
    "N'a qu'une page, une seule rubrique\n",
    "Qui commence par ton absence\n",
    "Et dans l'ordre alphabétique\n",
    "Se termine par l'état d'amnésie\n",
    "Tes états d'âme sont un leurre\n",
    "Et tes larmes sont les armes dont tu te sers\n",
    "Mais ce piège ne tromperait qu'un amateur\n",
    "Ton âme sœur est une meilleure adversaire\"\"\")\n",
    "\n",
    "for tok in doc:\n",
    "    print(tok.text_with_ws, end=\"\")"
   ]
  },
  {
   "cell_type": "markdown",
   "id": "d815a7f8",
   "metadata": {
    "slideshow": {
     "slide_type": "subslide"
    }
   },
   "source": [
    "Un objet de la classe [`Doc`](https://spacy.io/api/doc) contient aussi le produit du découpage en phrases"
   ]
  },
  {
   "cell_type": "code",
   "execution_count": 18,
   "id": "019a5a7a",
   "metadata": {
    "slideshow": {
     "slide_type": "-"
    }
   },
   "outputs": [
    {
     "name": "stdout",
     "output_type": "stream",
     "text": [
      "La musique était mon sourire, les vieux succès mes souvenirs. \n",
      "\n",
      "On sort tous son dernier soupir lorsqu'on va mourir. \n",
      "\n",
      "Mais un souffle j'avais gardé car on ne peut pas trépasser chacun le sait sans voir un disque jockey. \n",
      "\n",
      "Et tu chantes, danses jusqu'au bout de la nuit tes flashes en musique funky. \n",
      "\n",
      "Y’a la basse qui frappe, et la guitare qui choque, et y’a le batteur qui s'éclate, et toi qui tiens le choc. \n",
      "\n"
     ]
    }
   ],
   "source": [
    "doc = nlp(\"La musique était mon sourire, les vieux succès mes souvenirs. On \\\n",
    "sort tous son dernier soupir lorsqu'on va mourir. Mais un souffle j'avais gardé \\\n",
    "car on ne peut pas trépasser chacun le sait sans voir un disque jockey. \\\n",
    "Et tu chantes, danses jusqu'au bout de la nuit tes flashes en musique funky. \\\n",
    "Y’a la basse qui frappe, et la guitare qui choque, et y’a le batteur qui s'éclate, et toi qui tiens le choc.\")\n",
    "\n",
    "for sent in doc.sents:\n",
    "    print(sent, \"\\n\")"
   ]
  },
  {
   "cell_type": "markdown",
   "id": "d4442478",
   "metadata": {
    "slideshow": {
     "slide_type": "subslide"
    }
   },
   "source": [
    "## Étiquetage (*tagging*)"
   ]
  },
  {
   "cell_type": "code",
   "execution_count": 45,
   "id": "4b04d330",
   "metadata": {},
   "outputs": [
    {
     "name": "stdout",
     "output_type": "stream",
     "text": [
      "Tous ADJ\n",
      "mes DET\n",
      "beaux ADJ\n",
      "châteaux NOUN\n",
      "d' ADP\n",
      "Équateur PROPN\n",
      "s' PRON\n",
      "écroulent VERB\n",
      ". PUNCT\n"
     ]
    }
   ],
   "source": [
    "doc = nlp(\"Tous mes beaux châteaux d'Équateur s'écroulent.\")\n",
    "\n",
    "for tok in doc:\n",
    "    print(tok, tok.pos_)"
   ]
  },
  {
   "cell_type": "markdown",
   "id": "420ee3e9",
   "metadata": {
    "slideshow": {
     "slide_type": "subslide"
    }
   },
   "source": [
    "Les annotations portant sur les tokens sont accessibles via les attributs des objets de type `token` : [https://spacy.io/api/token#attributes](https://spacy.io/api/token#attributes)  \n",
    "  - `pos_` contient l'étiquette de partie du discours de [universal dependancies](https://universaldependencies.org/docs/u/pos/)\n",
    "  - `tag_` contient l'étiquette du corpus original, parfois plus détaillée\n",
    "  - `lemma_` pour le lemme\n",
    "  - `morph` pour l'analyse morphologique"
   ]
  },
  {
   "cell_type": "code",
   "execution_count": 47,
   "id": "35199e03",
   "metadata": {},
   "outputs": [
    {
     "name": "stdout",
     "output_type": "stream",
     "text": [
      "Tous tout ADJ Gender=Masc|Number=Plur\n",
      "mes mon DET Number=Plur|Poss=Yes\n",
      "beaux beal ADJ Gender=Masc|Number=Plur\n",
      "châteaux château NOUN Gender=Masc|Number=Plur\n",
      "d' de ADP \n",
      "Équateur Équateur PROPN \n",
      "s' se PRON Person=3|Reflex=Yes\n",
      "écroulent écrouler VERB Mood=Ind|Number=Plur|Person=3|Tense=Pres|VerbForm=Fin\n",
      ". . PUNCT \n"
     ]
    }
   ],
   "source": [
    "for token in doc:\n",
    "    print(token, token.lemma_, token.pos_, token.morph)"
   ]
  },
  {
   "cell_type": "markdown",
   "id": "130f86c3",
   "metadata": {
    "slideshow": {
     "slide_type": "subslide"
    }
   },
   "source": [
    "## Détection d'entités nommées (*ner*)"
   ]
  },
  {
   "cell_type": "code",
   "execution_count": 49,
   "id": "0ba718f0",
   "metadata": {},
   "outputs": [
    {
     "name": "stdout",
     "output_type": "stream",
     "text": [
      "Mister Kali Jones PER\n",
      "Bill Ballantine PER\n",
      "Caraïbes LOC\n"
     ]
    }
   ],
   "source": [
    "doc = nlp(\"Le bandit s'appelle Mister Kali Jones \\\n",
    "avec l'ami Bill Ballantine, \\\n",
    "sauvé de justesse des crocodiles, \\\n",
    "stop au trafic des Caraïbes.\")\n",
    "\n",
    "for ent in doc.ents:\n",
    "    print(ent, ent.label_)"
   ]
  },
  {
   "cell_type": "code",
   "execution_count": 32,
   "id": "531347bc",
   "metadata": {
    "slideshow": {
     "slide_type": "subslide"
    }
   },
   "outputs": [
    {
     "data": {
      "text/html": [
       "<span class=\"tex2jax_ignore\"><div class=\"entities\" style=\"line-height: 2.5; direction: ltr\">Le bandit s'appelle \n",
       "<mark class=\"entity\" style=\"background: #ddd; padding: 0.45em 0.6em; margin: 0 0.25em; line-height: 1; border-radius: 0.35em;\">\n",
       "    Mister Kali Jones\n",
       "    <span style=\"font-size: 0.8em; font-weight: bold; line-height: 1; border-radius: 0.35em; vertical-align: middle; margin-left: 0.5rem\">PER</span>\n",
       "</mark>\n",
       " avec l'ami \n",
       "<mark class=\"entity\" style=\"background: #ddd; padding: 0.45em 0.6em; margin: 0 0.25em; line-height: 1; border-radius: 0.35em;\">\n",
       "    Bill Ballantine\n",
       "    <span style=\"font-size: 0.8em; font-weight: bold; line-height: 1; border-radius: 0.35em; vertical-align: middle; margin-left: 0.5rem\">PER</span>\n",
       "</mark>\n",
       ", sauvé de justesse des crocodiles, stop au trafic des \n",
       "<mark class=\"entity\" style=\"background: #ff9561; padding: 0.45em 0.6em; margin: 0 0.25em; line-height: 1; border-radius: 0.35em;\">\n",
       "    Caraïbes\n",
       "    <span style=\"font-size: 0.8em; font-weight: bold; line-height: 1; border-radius: 0.35em; vertical-align: middle; margin-left: 0.5rem\">LOC</span>\n",
       "</mark>\n",
       ".</div></span>"
      ],
      "text/plain": [
       "<IPython.core.display.HTML object>"
      ]
     },
     "metadata": {},
     "output_type": "display_data"
    }
   ],
   "source": [
    "from spacy import displacy\n",
    "displacy.render(doc, style=\"ent\", jupyter=True) "
   ]
  },
  {
   "cell_type": "code",
   "execution_count": 33,
   "id": "54903ec6",
   "metadata": {
    "slideshow": {
     "slide_type": "subslide"
    }
   },
   "outputs": [
    {
     "data": {
      "text/html": [
       "<span class=\"tex2jax_ignore\"><div class=\"entities\" style=\"line-height: 2.5; direction: ltr\">À l’heure où le président russe, \n",
       "<mark class=\"entity\" style=\"background: #ddd; padding: 0.45em 0.6em; margin: 0 0.25em; line-height: 1; border-radius: 0.35em;\">\n",
       "    Vladimir Poutine\n",
       "    <span style=\"font-size: 0.8em; font-weight: bold; line-height: 1; border-radius: 0.35em; vertical-align: middle; margin-left: 0.5rem\">PER</span>\n",
       "</mark>\n",
       ", prononçait sur la \n",
       "<mark class=\"entity\" style=\"background: #ff9561; padding: 0.45em 0.6em; margin: 0 0.25em; line-height: 1; border-radius: 0.35em;\">\n",
       "    place Rouge\n",
       "    <span style=\"font-size: 0.8em; font-weight: bold; line-height: 1; border-radius: 0.35em; vertical-align: middle; margin-left: 0.5rem\">LOC</span>\n",
       "</mark>\n",
       " son discours annuel sur la guerre de 1941-1945, cette année presque entièrement consacrée au conflit en \n",
       "<mark class=\"entity\" style=\"background: #ff9561; padding: 0.45em 0.6em; margin: 0 0.25em; line-height: 1; border-radius: 0.35em;\">\n",
       "    Ukraine\n",
       "    <span style=\"font-size: 0.8em; font-weight: bold; line-height: 1; border-radius: 0.35em; vertical-align: middle; margin-left: 0.5rem\">LOC</span>\n",
       "</mark>\n",
       ", son homologue ukrainien, \n",
       "<mark class=\"entity\" style=\"background: #ddd; padding: 0.45em 0.6em; margin: 0 0.25em; line-height: 1; border-radius: 0.35em;\">\n",
       "    Volodymyr Zelensky\n",
       "    <span style=\"font-size: 0.8em; font-weight: bold; line-height: 1; border-radius: 0.35em; vertical-align: middle; margin-left: 0.5rem\">PER</span>\n",
       "</mark>\n",
       ", diffusait une vidéo de lui-même marchant seul sur l’avenue \n",
       "<mark class=\"entity\" style=\"background: #ddd; padding: 0.45em 0.6em; margin: 0 0.25em; line-height: 1; border-radius: 0.35em;\">\n",
       "    Khrechtchatyk de Kiev\n",
       "    <span style=\"font-size: 0.8em; font-weight: bold; line-height: 1; border-radius: 0.35em; vertical-align: middle; margin-left: 0.5rem\">PER</span>\n",
       "</mark>\n",
       ", là où ont lieu, d’habitude, les cérémonies nationales dans son pays.</div></span>"
      ],
      "text/plain": [
       "<IPython.core.display.HTML object>"
      ]
     },
     "metadata": {},
     "output_type": "display_data"
    }
   ],
   "source": [
    "doc = nlp(\"À l’heure où le président russe, Vladimir Poutine, prononçait sur la place Rouge son discours annuel \\\n",
    "sur la guerre de 1941-1945, cette année presque entièrement consacrée au conflit en Ukraine, \\\n",
    "son homologue ukrainien, Volodymyr Zelensky, diffusait une vidéo de lui-même marchant seul \\\n",
    "sur l’avenue Khrechtchatyk de Kiev, là où ont lieu, d’habitude, les cérémonies nationales dans son pays.\")\n",
    "\n",
    "displacy.render(doc, style=\"ent\", jupyter=True)"
   ]
  },
  {
   "cell_type": "markdown",
   "id": "fff699fb",
   "metadata": {
    "slideshow": {
     "slide_type": "subslide"
    }
   },
   "source": [
    "## Analyse syntaxique (*parsing*)\n",
    "\n",
    " - L'analyse syntaxique ou *parsing* de Spacy est une analyse en dépendance.\n",
    "\n",
    "- Dans l'analyse en dépendance produite par Spacy, chaque mot d'une phrase a un gouverneur unique (*head*), la relation de dépendance entre le mot et son gouverneur est typée (*nsubj*, *obj*, …).  \n",
    "Pour la tête de la phrase on utilise la relation *ROOT*.\n",
    "\n",
    "- La structure produite par l'analyse syntaxique est un arbre, un graphe acyclique et connexe.  \n",
    "Les tokens sont les nœuds, les arcs sont les dépendances, le type de la relation est l'étiquette de l'arc."
   ]
  },
  {
   "cell_type": "code",
   "execution_count": 29,
   "id": "818cd281",
   "metadata": {
    "slideshow": {
     "slide_type": "subslide"
    }
   },
   "outputs": [
    {
     "name": "stdout",
     "output_type": "stream",
     "text": [
      "Il expl:subj refile\n",
      "te iobj refile\n",
      "refile ROOT refile\n",
      "en case stéréo\n",
      "stéréo obl:arg refile\n",
      "la det chanson\n",
      "chanson obj refile\n",
      "des case sirènes\n",
      "sirènes nmod chanson\n",
      ". punct refile\n"
     ]
    }
   ],
   "source": [
    "doc = nlp(\"Il te refile en stéréo la chanson des sirènes.\")\n",
    "for token in doc:\n",
    "    print(token, token.dep_, token.head)"
   ]
  },
  {
   "cell_type": "code",
   "execution_count": 52,
   "id": "0072ef85",
   "metadata": {
    "scrolled": true,
    "slideshow": {
     "slide_type": "subslide"
    }
   },
   "outputs": [
    {
     "data": {
      "text/html": [
       "<span class=\"tex2jax_ignore\"><svg xmlns=\"http://www.w3.org/2000/svg\" xmlns:xlink=\"http://www.w3.org/1999/xlink\" xml:lang=\"fr\" id=\"ef1d5ae5487846a48f8804e6fc287fd0-0\" class=\"displacy\" width=\"860\" height=\"272.0\" direction=\"ltr\" style=\"max-width: none; height: 272.0px; color: #000000; background: #ffffff; font-family: Arial; direction: ltr\">\n",
       "<text class=\"displacy-token\" fill=\"currentColor\" text-anchor=\"middle\" y=\"182.0\">\n",
       "    <tspan class=\"displacy-word\" fill=\"currentColor\" x=\"50\">Il</tspan>\n",
       "    <tspan class=\"displacy-tag\" dy=\"2em\" fill=\"currentColor\" x=\"50\">PRON</tspan>\n",
       "</text>\n",
       "\n",
       "<text class=\"displacy-token\" fill=\"currentColor\" text-anchor=\"middle\" y=\"182.0\">\n",
       "    <tspan class=\"displacy-word\" fill=\"currentColor\" x=\"140\">te</tspan>\n",
       "    <tspan class=\"displacy-tag\" dy=\"2em\" fill=\"currentColor\" x=\"140\">PRON</tspan>\n",
       "</text>\n",
       "\n",
       "<text class=\"displacy-token\" fill=\"currentColor\" text-anchor=\"middle\" y=\"182.0\">\n",
       "    <tspan class=\"displacy-word\" fill=\"currentColor\" x=\"230\">refile</tspan>\n",
       "    <tspan class=\"displacy-tag\" dy=\"2em\" fill=\"currentColor\" x=\"230\">VERB</tspan>\n",
       "</text>\n",
       "\n",
       "<text class=\"displacy-token\" fill=\"currentColor\" text-anchor=\"middle\" y=\"182.0\">\n",
       "    <tspan class=\"displacy-word\" fill=\"currentColor\" x=\"320\">en</tspan>\n",
       "    <tspan class=\"displacy-tag\" dy=\"2em\" fill=\"currentColor\" x=\"320\">ADP</tspan>\n",
       "</text>\n",
       "\n",
       "<text class=\"displacy-token\" fill=\"currentColor\" text-anchor=\"middle\" y=\"182.0\">\n",
       "    <tspan class=\"displacy-word\" fill=\"currentColor\" x=\"410\">stéréo</tspan>\n",
       "    <tspan class=\"displacy-tag\" dy=\"2em\" fill=\"currentColor\" x=\"410\">NOUN</tspan>\n",
       "</text>\n",
       "\n",
       "<text class=\"displacy-token\" fill=\"currentColor\" text-anchor=\"middle\" y=\"182.0\">\n",
       "    <tspan class=\"displacy-word\" fill=\"currentColor\" x=\"500\">la</tspan>\n",
       "    <tspan class=\"displacy-tag\" dy=\"2em\" fill=\"currentColor\" x=\"500\">DET</tspan>\n",
       "</text>\n",
       "\n",
       "<text class=\"displacy-token\" fill=\"currentColor\" text-anchor=\"middle\" y=\"182.0\">\n",
       "    <tspan class=\"displacy-word\" fill=\"currentColor\" x=\"590\">chanson</tspan>\n",
       "    <tspan class=\"displacy-tag\" dy=\"2em\" fill=\"currentColor\" x=\"590\">NOUN</tspan>\n",
       "</text>\n",
       "\n",
       "<text class=\"displacy-token\" fill=\"currentColor\" text-anchor=\"middle\" y=\"182.0\">\n",
       "    <tspan class=\"displacy-word\" fill=\"currentColor\" x=\"680\">des</tspan>\n",
       "    <tspan class=\"displacy-tag\" dy=\"2em\" fill=\"currentColor\" x=\"680\">ADP</tspan>\n",
       "</text>\n",
       "\n",
       "<text class=\"displacy-token\" fill=\"currentColor\" text-anchor=\"middle\" y=\"182.0\">\n",
       "    <tspan class=\"displacy-word\" fill=\"currentColor\" x=\"770\">sirènes.</tspan>\n",
       "    <tspan class=\"displacy-tag\" dy=\"2em\" fill=\"currentColor\" x=\"770\">NOUN</tspan>\n",
       "</text>\n",
       "\n",
       "<g class=\"displacy-arrow\">\n",
       "    <path class=\"displacy-arc\" id=\"arrow-ef1d5ae5487846a48f8804e6fc287fd0-0-0\" stroke-width=\"2px\" d=\"M70,137.0 C70,47.0 225.0,47.0 225.0,137.0\" fill=\"none\" stroke=\"currentColor\"/>\n",
       "    <text dy=\"1.25em\" style=\"font-size: 0.8em; letter-spacing: 1px\">\n",
       "        <textPath xlink:href=\"#arrow-ef1d5ae5487846a48f8804e6fc287fd0-0-0\" class=\"displacy-label\" startOffset=\"50%\" side=\"left\" fill=\"currentColor\" text-anchor=\"middle\">expl:subj</textPath>\n",
       "    </text>\n",
       "    <path class=\"displacy-arrowhead\" d=\"M70,139.0 L62,127.0 78,127.0\" fill=\"currentColor\"/>\n",
       "</g>\n",
       "\n",
       "<g class=\"displacy-arrow\">\n",
       "    <path class=\"displacy-arc\" id=\"arrow-ef1d5ae5487846a48f8804e6fc287fd0-0-1\" stroke-width=\"2px\" d=\"M160,137.0 C160,92.0 220.0,92.0 220.0,137.0\" fill=\"none\" stroke=\"currentColor\"/>\n",
       "    <text dy=\"1.25em\" style=\"font-size: 0.8em; letter-spacing: 1px\">\n",
       "        <textPath xlink:href=\"#arrow-ef1d5ae5487846a48f8804e6fc287fd0-0-1\" class=\"displacy-label\" startOffset=\"50%\" side=\"left\" fill=\"currentColor\" text-anchor=\"middle\">iobj</textPath>\n",
       "    </text>\n",
       "    <path class=\"displacy-arrowhead\" d=\"M160,139.0 L152,127.0 168,127.0\" fill=\"currentColor\"/>\n",
       "</g>\n",
       "\n",
       "<g class=\"displacy-arrow\">\n",
       "    <path class=\"displacy-arc\" id=\"arrow-ef1d5ae5487846a48f8804e6fc287fd0-0-2\" stroke-width=\"2px\" d=\"M340,137.0 C340,92.0 400.0,92.0 400.0,137.0\" fill=\"none\" stroke=\"currentColor\"/>\n",
       "    <text dy=\"1.25em\" style=\"font-size: 0.8em; letter-spacing: 1px\">\n",
       "        <textPath xlink:href=\"#arrow-ef1d5ae5487846a48f8804e6fc287fd0-0-2\" class=\"displacy-label\" startOffset=\"50%\" side=\"left\" fill=\"currentColor\" text-anchor=\"middle\">case</textPath>\n",
       "    </text>\n",
       "    <path class=\"displacy-arrowhead\" d=\"M340,139.0 L332,127.0 348,127.0\" fill=\"currentColor\"/>\n",
       "</g>\n",
       "\n",
       "<g class=\"displacy-arrow\">\n",
       "    <path class=\"displacy-arc\" id=\"arrow-ef1d5ae5487846a48f8804e6fc287fd0-0-3\" stroke-width=\"2px\" d=\"M250,137.0 C250,47.0 405.0,47.0 405.0,137.0\" fill=\"none\" stroke=\"currentColor\"/>\n",
       "    <text dy=\"1.25em\" style=\"font-size: 0.8em; letter-spacing: 1px\">\n",
       "        <textPath xlink:href=\"#arrow-ef1d5ae5487846a48f8804e6fc287fd0-0-3\" class=\"displacy-label\" startOffset=\"50%\" side=\"left\" fill=\"currentColor\" text-anchor=\"middle\">obl:arg</textPath>\n",
       "    </text>\n",
       "    <path class=\"displacy-arrowhead\" d=\"M405.0,139.0 L413.0,127.0 397.0,127.0\" fill=\"currentColor\"/>\n",
       "</g>\n",
       "\n",
       "<g class=\"displacy-arrow\">\n",
       "    <path class=\"displacy-arc\" id=\"arrow-ef1d5ae5487846a48f8804e6fc287fd0-0-4\" stroke-width=\"2px\" d=\"M520,137.0 C520,92.0 580.0,92.0 580.0,137.0\" fill=\"none\" stroke=\"currentColor\"/>\n",
       "    <text dy=\"1.25em\" style=\"font-size: 0.8em; letter-spacing: 1px\">\n",
       "        <textPath xlink:href=\"#arrow-ef1d5ae5487846a48f8804e6fc287fd0-0-4\" class=\"displacy-label\" startOffset=\"50%\" side=\"left\" fill=\"currentColor\" text-anchor=\"middle\">det</textPath>\n",
       "    </text>\n",
       "    <path class=\"displacy-arrowhead\" d=\"M520,139.0 L512,127.0 528,127.0\" fill=\"currentColor\"/>\n",
       "</g>\n",
       "\n",
       "<g class=\"displacy-arrow\">\n",
       "    <path class=\"displacy-arc\" id=\"arrow-ef1d5ae5487846a48f8804e6fc287fd0-0-5\" stroke-width=\"2px\" d=\"M250,137.0 C250,2.0 590.0,2.0 590.0,137.0\" fill=\"none\" stroke=\"currentColor\"/>\n",
       "    <text dy=\"1.25em\" style=\"font-size: 0.8em; letter-spacing: 1px\">\n",
       "        <textPath xlink:href=\"#arrow-ef1d5ae5487846a48f8804e6fc287fd0-0-5\" class=\"displacy-label\" startOffset=\"50%\" side=\"left\" fill=\"currentColor\" text-anchor=\"middle\">obj</textPath>\n",
       "    </text>\n",
       "    <path class=\"displacy-arrowhead\" d=\"M590.0,139.0 L598.0,127.0 582.0,127.0\" fill=\"currentColor\"/>\n",
       "</g>\n",
       "\n",
       "<g class=\"displacy-arrow\">\n",
       "    <path class=\"displacy-arc\" id=\"arrow-ef1d5ae5487846a48f8804e6fc287fd0-0-6\" stroke-width=\"2px\" d=\"M700,137.0 C700,92.0 760.0,92.0 760.0,137.0\" fill=\"none\" stroke=\"currentColor\"/>\n",
       "    <text dy=\"1.25em\" style=\"font-size: 0.8em; letter-spacing: 1px\">\n",
       "        <textPath xlink:href=\"#arrow-ef1d5ae5487846a48f8804e6fc287fd0-0-6\" class=\"displacy-label\" startOffset=\"50%\" side=\"left\" fill=\"currentColor\" text-anchor=\"middle\">case</textPath>\n",
       "    </text>\n",
       "    <path class=\"displacy-arrowhead\" d=\"M700,139.0 L692,127.0 708,127.0\" fill=\"currentColor\"/>\n",
       "</g>\n",
       "\n",
       "<g class=\"displacy-arrow\">\n",
       "    <path class=\"displacy-arc\" id=\"arrow-ef1d5ae5487846a48f8804e6fc287fd0-0-7\" stroke-width=\"2px\" d=\"M610,137.0 C610,47.0 765.0,47.0 765.0,137.0\" fill=\"none\" stroke=\"currentColor\"/>\n",
       "    <text dy=\"1.25em\" style=\"font-size: 0.8em; letter-spacing: 1px\">\n",
       "        <textPath xlink:href=\"#arrow-ef1d5ae5487846a48f8804e6fc287fd0-0-7\" class=\"displacy-label\" startOffset=\"50%\" side=\"left\" fill=\"currentColor\" text-anchor=\"middle\">nmod</textPath>\n",
       "    </text>\n",
       "    <path class=\"displacy-arrowhead\" d=\"M765.0,139.0 L773.0,127.0 757.0,127.0\" fill=\"currentColor\"/>\n",
       "</g>\n",
       "</svg></span>"
      ],
      "text/plain": [
       "<IPython.core.display.HTML object>"
      ]
     },
     "metadata": {},
     "output_type": "display_data"
    }
   ],
   "source": [
    "from spacy import displacy\n",
    "\n",
    "doc = nlp(\"Il te refile en stéréo la chanson des sirènes.\")\n",
    "displacy.render(doc, style=\"dep\", jupyter=True, options={'distance':90})"
   ]
  },
  {
   "cell_type": "code",
   "execution_count": 28,
   "id": "f2cd4b3e",
   "metadata": {
    "slideshow": {
     "slide_type": "subslide"
    }
   },
   "outputs": [
    {
     "name": "stdout",
     "output_type": "stream",
     "text": [
      "Dep tree   Token   Dep type  Lemma   Part of Sp\n",
      "────────── ─────── ───────── ─────── ──────────\n",
      "      ┌──► Il      expl:subj il      PRON      \n",
      "      │┌─► te      iobj      te      PRON      \n",
      "┌┬──┬─┴┴── refile  ROOT      refile  VERB      \n",
      "││  │  ┌─► en      case      en      ADP       \n",
      "││  └─►└── stéréo  obl:arg   stéréo  NOUN      \n",
      "││     ┌─► la      det       le      DET       \n",
      "│└─►┌──┴── chanson obj       chanson NOUN      \n",
      "│   │  ┌─► des     case      de      ADP       \n",
      "│   └─►└── sirènes nmod      sirène  NOUN      \n",
      "└────────► .       punct     .       PUNCT     \n"
     ]
    }
   ],
   "source": [
    "import explacy\n",
    "# https://spacy.io/universe/project/explacy\n",
    "\n",
    "explacy.print_parse_info(nlp, \"Il te refile en stéréo la chanson des sirènes.\")\n"
   ]
  },
  {
   "cell_type": "markdown",
   "id": "c2507826",
   "metadata": {},
   "source": [
    "Les attributs de token suivant peuvent être utilisés pour parcourir l'arbre de dépendance : \n",
    "- `children` les tokens dépendants du token\n",
    "- `subtree` tous les descendants du token\n",
    "- `ancestors` tous les parents du token\n",
    "- `rights` les enfants à droite du token\n",
    "- `lefts` les enfants à gauche du token"
   ]
  },
  {
   "cell_type": "code",
   "execution_count": 61,
   "id": "e66847f1",
   "metadata": {},
   "outputs": [
    {
     "name": "stdout",
     "output_type": "stream",
     "text": [
      "sujet : Il, prédicat : refile, objet : chanson\n"
     ]
    }
   ],
   "source": [
    "root = [token for token in doc if token.head == token][0]\n",
    "subjects = [tok for tok in root.lefts if \"subj\" in tok.dep_]\n",
    "subject = subjects[0]\n",
    "objs = [tok for tok in root.rights if tok.dep_ == \"obj\"]\n",
    "obj = objs[0]\n",
    "print(f\"sujet : {subject}, prédicat : {root}, objet : {obj}\")"
   ]
  },
  {
   "cell_type": "markdown",
   "id": "896eabfd",
   "metadata": {
    "slideshow": {
     "slide_type": "slide"
    }
   },
   "source": [
    "1. Introduction\n",
    "2. Étapes de la chaîne de traitement\n",
    "3. **Extraction d'information**\n",
    "4. Adaptation du modèle"
   ]
  },
  {
   "cell_type": "code",
   "execution_count": null,
   "id": "17b86496",
   "metadata": {
    "slideshow": {
     "slide_type": "subslide"
    }
   },
   "outputs": [],
   "source": []
  }
 ],
 "metadata": {
  "celltoolbar": "Slideshow",
  "kernelspec": {
   "display_name": "Python 3 (ipykernel)",
   "language": "python",
   "name": "python3"
  },
  "language_info": {
   "codemirror_mode": {
    "name": "ipython",
    "version": 3
   },
   "file_extension": ".py",
   "mimetype": "text/x-python",
   "name": "python",
   "nbconvert_exporter": "python",
   "pygments_lexer": "ipython3",
   "version": "3.10.4"
  }
 },
 "nbformat": 4,
 "nbformat_minor": 5
}
